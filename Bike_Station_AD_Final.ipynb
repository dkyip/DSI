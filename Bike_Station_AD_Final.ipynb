{
 "cells": [
  {
   "cell_type": "code",
   "execution_count": 1,
   "metadata": {},
   "outputs": [],
   "source": [
    "import pandas as pd\n",
    "import numpy as np\n",
    "import math\n",
    "from random import randint\n",
    "\n",
    "import matplotlib.pyplot as plt\n",
    "import seaborn as sns\n",
    "\n",
    "from scipy.stats import norm\n",
    "from sklearn.neighbors import LocalOutlierFactor\n",
    "from scipy.stats import zscore\n",
    "\n",
    "dict_dayofweek = {0:'Monday',1:'Tuesday',2:'Wednesday',3:'Thursday',4:'Friday',5:'Saturday',6:'Sunday'}"
   ]
  },
  {
   "cell_type": "code",
   "execution_count": 2,
   "metadata": {},
   "outputs": [],
   "source": [
    "df_biketrips = pd.read_csv('biketrips2011.csv')\n",
    "df_biketrips['StartTime'] = df_biketrips['StartTime'].astype('datetime64')\n",
    "df_biketrips['EndTime'] = df_biketrips['EndTime'].astype('datetime64')\n",
    "df_biketrips['StartNum'] = df_biketrips['StartNum'].astype(int)\n",
    "df_biketrips['EndNum'] = df_biketrips['EndNum'].astype(int)"
   ]
  },
  {
   "cell_type": "code",
   "execution_count": 3,
   "metadata": {},
   "outputs": [],
   "source": [
    "# new features - to help group by hour\n",
    "df_dhcombo_out = pd.DataFrame({\n",
    "    'Day': df_biketrips['StartTime'].dt.date,\n",
    "    'Hour': df_biketrips['StartTime'].dt.hour,\n",
    "})\n",
    "\n",
    "df_dhcombo_in = pd.DataFrame({\n",
    "    'Day': df_biketrips['EndTime'].dt.date,\n",
    "    'Hour': df_biketrips['EndTime'].dt.hour,\n",
    "})\n",
    "\n",
    "df_biketrips['StartHour'] = pd.to_datetime(df_dhcombo_out.Day) + pd.to_timedelta(df_dhcombo_out.Hour, unit='h')\n",
    "df_biketrips['EndHour'] = pd.to_datetime(df_dhcombo_in.Day) + pd.to_timedelta(df_dhcombo_in.Hour, unit='h')"
   ]
  },
  {
   "cell_type": "code",
   "execution_count": 4,
   "metadata": {},
   "outputs": [],
   "source": [
    "# create pivot tables, with each site as a column\n",
    "df_hourly_start = df_biketrips.pivot_table(values='count',index='StartHour',columns='StartNum',\n",
    "                                           aggfunc='sum',fill_value=None)\n",
    "df_hourly_end = df_biketrips.pivot_table(values='count',index='EndHour',columns='EndNum',\n",
    "                                         aggfunc='sum',fill_value=None)"
   ]
  },
  {
   "cell_type": "code",
   "execution_count": 5,
   "metadata": {},
   "outputs": [],
   "source": [
    "# insert rows for missing hours\n",
    "from datetime import datetime, timedelta\n",
    "\n",
    "def daterange(start_date, end_date):\n",
    "    delta = timedelta(hours=1)\n",
    "    while start_date < end_date:\n",
    "        yield start_date\n",
    "        start_date += delta\n",
    "\n",
    "start_date = df_hourly_start.index[0]\n",
    "end_date = df_hourly_start.index[-1]\n",
    "#print(daterange(start_date, end_date))\n",
    "idx_datetime = []\n",
    "for single_date in daterange(start_date, end_date):\n",
    "    idx_datetime.append(single_date.strftime(\"%Y-%m-%d %H:%M:%S\"))\n",
    "\n",
    "df_hourly_start = df_hourly_start.reindex(pd.DatetimeIndex(idx_datetime))\n",
    "df_hourly_end = df_hourly_end.reindex(pd.DatetimeIndex(idx_datetime))"
   ]
  },
  {
   "cell_type": "code",
   "execution_count": 6,
   "metadata": {},
   "outputs": [],
   "source": [
    "df_hourly_start['hourofday'] = df_hourly_start.index.hour\n",
    "df_hourly_start['dayofweek'] = df_hourly_start.index.dayofweek\n",
    "\n",
    "df_hourly_end['hourofday'] = df_hourly_end.index.hour\n",
    "df_hourly_end['dayofweek'] = df_hourly_end.index.dayofweek\n",
    "\n",
    "df_hourly_start['weekofyear'] = df_hourly_start.index.weekofyear\n",
    "df_hourly_end['weekofyear'] = df_hourly_end.index.weekofyear"
   ]
  },
  {
   "cell_type": "code",
   "execution_count": 7,
   "metadata": {},
   "outputs": [],
   "source": [
    "# take off last 3 columns (added features above)\n",
    "sites = df_hourly_start.columns[0:len(df_hourly_start.columns)-3]"
   ]
  },
  {
   "cell_type": "code",
   "execution_count": 8,
   "metadata": {},
   "outputs": [],
   "source": [
    "#sample_sites = [31007,31015,31103,31104,31200,31201,31217,31219,31623]\n",
    "#31007 and 31015 are low volume\n",
    "sample_sites = [31007,31100,31103,31200,31215]"
   ]
  },
  {
   "cell_type": "code",
   "execution_count": 9,
   "metadata": {},
   "outputs": [],
   "source": [
    "def anomalyDetection(p_site,p_dayofweek,p_hourofday,p_weekofyear):\n",
    "\n",
    "    df_test_start = df_hourly_start[(df_hourly_start['dayofweek']==p_dayofweek)&\n",
    "                                    (df_hourly_start['hourofday']==p_hourofday)][p_weekofyear:(p_weekofyear+30)].fillna(0)\n",
    "    df_test_end = df_hourly_end[(df_hourly_end['dayofweek']==p_dayofweek)&\n",
    "                                (df_hourly_end['hourofday']==p_hourofday)][p_weekofyear:(p_weekofyear+30)].fillna(0)\n",
    "\n",
    "    est_start = LocalOutlierFactor(n_neighbors=20,contamination=0.2)\n",
    "    est_end = LocalOutlierFactor(n_neighbors=20,contamination=0.2)\n",
    "    \n",
    "    X_start = df_test_start[p_site].fillna(0)\n",
    "    X_start_idx = X_start.index\n",
    "    X_start_reshape = X_start.values.reshape(-1,1)\n",
    "    est_start.fit(X_start_reshape)    \n",
    "\n",
    "    X_end = df_test_end[p_site].fillna(0)\n",
    "    X_end_idx = X_end.index\n",
    "    X_end_reshape = X_end.values.reshape(-1,1)\n",
    "    est_end.fit(X_end_reshape)  \n",
    "    \n",
    "    outlier_factor_start = est_start.negative_outlier_factor_ * -1\n",
    "    outlier_factor_end = est_end.negative_outlier_factor_ * -1       \n",
    "\n",
    "    zscore_lof_start = zscore(outlier_factor_start)\n",
    "    zscore_lof_end = zscore(outlier_factor_end) \n",
    "    \n",
    "    # only trigger an alert if the high count is 8 or more, or is low count\n",
    "    alert_start =  (zscore_lof_start>2) & (((X_start>=8)&(X_start>X_start.mean()))^(X_start<X_start.mean()))\n",
    "    alert_end =  (zscore_lof_end>2) & (((X_end>=8)&(X_end>X_end.mean()))^(X_end<X_end.mean()))\n",
    "    \n",
    "    df_test = pd.DataFrame(list(zip(X_start_idx,X_start,X_end,outlier_factor_start,outlier_factor_end,\n",
    "                                    zscore_lof_start,zscore_lof_end,alert_start,alert_end)),\n",
    "                           columns=['datetime','cnt_strt','cnt_end','lof_strt','lof_end',\n",
    "                                    'zscore_strt','zscore_end','alert_strt','alert_end'])\n",
    "    return df_test"
   ]
  },
  {
   "cell_type": "code",
   "execution_count": 10,
   "metadata": {},
   "outputs": [],
   "source": [
    "# df_results - expected DF input\n",
    "# 1) cnt_strt\n",
    "# 2) cnt_end\n",
    "# 3) alert_strt\n",
    "# 4) alert_end\n",
    "def plot_sequence(df_results,sitenum,dayofweek,hourofday,startweek):\n",
    "    df_plot = df_results\n",
    "    \n",
    "    df_plot['outlier'] = df_plot['alert_strt'] + df_plot['alert_end']\n",
    "    markers = ['o','x'][0:len(np.unique(df_plot['outlier']))]\n",
    "    sns.lmplot(x='cnt_strt',y='cnt_end',hue='outlier',data=df_plot,fit_reg=False,markers=markers)\n",
    "    str_title = 'Site: ' + str(sitenum) + ', Day: ' + dict_dayofweek.get(dayofweek) \n",
    "                 + ', Hour: ' + str(hourofday) + ', Start Week: ' + str(startweek)\n",
    "    plt.title(str_title)\n",
    "    plt.xlabel('Departures')\n",
    "    plt.ylabel('Arrivals')\n",
    "\n",
    "    plt.show()"
   ]
  },
  {
   "cell_type": "code",
   "execution_count": 40,
   "metadata": {},
   "outputs": [
    {
     "name": "stderr",
     "output_type": "stream",
     "text": [
      "/Users/Derek/anaconda/lib/python3.6/site-packages/scipy/stats/stats.py:2253: RuntimeWarning: invalid value encountered in true_divide\n",
      "  return (a - mns) / sstd\n",
      "/Users/Derek/anaconda/lib/python3.6/site-packages/ipykernel/__main__.py:26: RuntimeWarning: invalid value encountered in greater\n",
      "/Users/Derek/anaconda/lib/python3.6/site-packages/ipykernel/__main__.py:27: RuntimeWarning: invalid value encountered in greater\n"
     ]
    }
   ],
   "source": [
    "#get a random:\n",
    "# - site (see temp_sites)\n",
    "# - day of week (0 to 6)\n",
    "# - hour of day (0 to 23)\n",
    "# - window (week 0 to 21 - to get to end of year)\n",
    "\n",
    "temp_sites = [31200,31201,31623,31101,31237,31602,31238,31503]\n",
    "list_test = []\n",
    "for i in np.arange(0,1000):\n",
    "    rand_site = temp_sites[randint(0,len(temp_sites)-1)]\n",
    "    rand_d = randint(0,6)\n",
    "    rand_h = randint(0,23)\n",
    "    rand_w = randint(0,21)\n",
    "    \n",
    "    df_test = anomalyDetection(rand_site,rand_d,rand_h,rand_w)\n",
    "    df_test['test_num'] = i\n",
    "    df_test['sitenum'] = rand_site\n",
    "    df_test['dayofweek'] = rand_d\n",
    "    df_test['hourofday'] = rand_h\n",
    "    df_test['startweek'] = rand_w\n",
    "    list_test.append(df_test)\n",
    "\n",
    "df_results = pd.concat(list_test)\n",
    "df_results.reset_index(inplace=True)\n",
    "df_results.set_index(['test_num','index'],inplace=True)\n",
    "df_results.to_excel('testresults.xlsx')"
   ]
  },
  {
   "cell_type": "code",
   "execution_count": 41,
   "metadata": {},
   "outputs": [
    {
     "name": "stdout",
     "output_type": "stream",
     "text": [
      "Anomalous starts: 834\n",
      "Percentage of anomalous starts: 2.78 %\n",
      "Anomalous ends: 822\n",
      "Total datapoints: 30000\n",
      "Percentage of anomalous ends: 2.74 %\n"
     ]
    }
   ],
   "source": [
    "count_outlier_start = len(df_results[df_results['alert_strt']==True])\n",
    "count_outlier_end = len(df_results[df_results['alert_end']==True])\n",
    "count_all = len(df_results)\n",
    "\n",
    "print('Anomalous starts:',count_outlier_start)\n",
    "print('Percentage of anomalous starts:',count_outlier_start/count_all*100,'%')\n",
    "print('Anomalous ends:',count_outlier_end)\n",
    "print('Total datapoints:',count_all)\n",
    "print('Percentage of anomalous ends:',count_outlier_end/count_all*100,'%')"
   ]
  },
  {
   "cell_type": "code",
   "execution_count": null,
   "metadata": {},
   "outputs": [],
   "source": []
  }
 ],
 "metadata": {
  "kernelspec": {
   "display_name": "Python 3",
   "language": "python",
   "name": "python3"
  },
  "language_info": {
   "codemirror_mode": {
    "name": "ipython",
    "version": 3
   },
   "file_extension": ".py",
   "mimetype": "text/x-python",
   "name": "python",
   "nbconvert_exporter": "python",
   "pygments_lexer": "ipython3",
   "version": "3.6.0"
  }
 },
 "nbformat": 4,
 "nbformat_minor": 2
}
