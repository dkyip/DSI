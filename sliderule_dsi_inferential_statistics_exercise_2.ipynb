{
 "cells": [
  {
   "cell_type": "markdown",
   "metadata": {},
   "source": [
    "# Examining Racial Discrimination in the US Job Market\n",
    "\n",
    "### Background\n",
    "Racial discrimination continues to be pervasive in cultures throughout the world. Researchers examined the level of racial discrimination in the United States labor market by randomly assigning identical résumés to black-sounding or white-sounding names and observing the impact on requests for interviews from employers.\n",
    "\n",
    "### Data\n",
    "In the dataset provided, each row represents a resume. The 'race' column has two values, 'b' and 'w', indicating black-sounding and white-sounding. The column 'call' has two values, 1 and 0, indicating whether the resume received a call from employers or not.\n",
    "\n",
    "Note that the 'b' and 'w' values in race are assigned randomly to the resumes when presented to the employer."
   ]
  },
  {
   "cell_type": "markdown",
   "metadata": {},
   "source": [
    "<div class=\"span5 alert alert-info\">\n",
    "### Exercises\n",
    "You will perform a statistical analysis to establish whether race has a significant impact on the rate of callbacks for resumes.\n",
    "\n",
    "Answer the following questions **in this notebook below and submit to your Github account**. \n",
    "\n",
    "   1. What test is appropriate for this problem? Does CLT apply?\n",
    "   2. What are the null and alternate hypotheses?\n",
    "   3. Compute margin of error, confidence interval, and p-value.\n",
    "   4. Write a story describing the statistical significance in the context or the original problem.\n",
    "   5. Does your analysis mean that race/name is the most important factor in callback success? Why or why not? If not, how would you amend your analysis?\n",
    "\n",
    "You can include written notes in notebook cells using Markdown: \n",
    "   - In the control panel at the top, choose Cell > Cell Type > Markdown\n",
    "   - Markdown syntax: http://nestacms.com/docs/creating-content/markdown-cheat-sheet\n",
    "\n",
    "\n",
    "#### Resources\n",
    "+ Experiment information and data source: http://www.povertyactionlab.org/evaluation/discrimination-job-market-united-states\n",
    "+ Scipy statistical methods: http://docs.scipy.org/doc/scipy/reference/stats.html \n",
    "+ Markdown syntax: http://nestacms.com/docs/creating-content/markdown-cheat-sheet\n",
    "</div>\n",
    "****"
   ]
  },
  {
   "cell_type": "code",
   "execution_count": 3,
   "metadata": {
    "collapsed": true
   },
   "outputs": [],
   "source": [
    "import pandas as pd\n",
    "import numpy as np\n",
    "from scipy import stats\n",
    "\n",
    "import matplotlib.pyplot as plt"
   ]
  },
  {
   "cell_type": "code",
   "execution_count": 4,
   "metadata": {
    "collapsed": false
   },
   "outputs": [],
   "source": [
    "data = pd.io.stata.read_stata('data/us_job_market_discrimination.dta')"
   ]
  },
  {
   "cell_type": "code",
   "execution_count": 37,
   "metadata": {
    "collapsed": true
   },
   "outputs": [],
   "source": [
    "def twoSampZ(X1, X2, mudiff, sd1, sd2, n1, n2):\n",
    "    pooledSE = np.sqrt(sd1**2/n1 + sd2**2/n2)\n",
    "    z = ((X1 - X2) - mudiff)/pooledSE\n",
    "    pval = 2*(1 - stats.norm.cdf(np.abs(z)))\n",
    "    return np.round(z, 3), np.round(pval, 5)"
   ]
  },
  {
   "cell_type": "code",
   "execution_count": 40,
   "metadata": {
    "collapsed": false
   },
   "outputs": [
    {
     "name": "stdout",
     "output_type": "stream",
     "text": [
      "p(b is called): 0.0644763857126236 (called = 157.0 , count = 2435 )\n",
      "p(w is called): 0.09650924056768417 (called = 235.0 , count = 2435 )\n",
      "Absolute Difference in p:  0.03203285485506058\n",
      "Relative % Difference in p:  49.681529913654856 %\n",
      "0.00778330835992\n",
      "0.00778330835992\n",
      "(-4.1159999999999997, 4.0000000000000003e-05)\n"
     ]
    }
   ],
   "source": [
    "group_b = data[data.race=='b']\n",
    "group_w = data[data.race=='w']\n",
    "\n",
    "p_b_called = np.mean(group_b.call)\n",
    "p_w_called = np.mean(group_w.call)\n",
    "p_both_called = (np.mean(group_b.call) + np.mean(group_w.call)) / 2\n",
    "\n",
    "count_b_called = sum(group_b.call)\n",
    "count_w_called = sum(group_w.call)\n",
    "\n",
    "count_b = len(group_b)\n",
    "count_w = len(group_w)\n",
    "\n",
    "print('p(''b'' is called):', p_b_called, '(called =', count_b_called, ', count =', count_b, ')')\n",
    "print('p(''w'' is called):', p_w_called, '(called =', count_w_called, ', count =', count_w, ')')\n",
    "\n",
    "p_diff_abs = p_w_called - p_b_called\n",
    "p_diff_rel = ( p_diff_abs / p_b_called ) * 100\n",
    "print('Absolute Difference in p: ', p_diff_abs)\n",
    "print('Relative % Difference in p: ', p_diff_rel, '%')\n",
    "\n",
    "\n"
   ]
  },
  {
   "cell_type": "markdown",
   "metadata": {},
   "source": [
    "#1) A two-sample z-test will be applicable here, as we will have two samples, one for white-sounding names and the other of black-sounding names. In particular, we will utilize a one-tail test to see if there is racial discrimination.\n",
    "\n",
    "The dataset is sufficiently large enough for the Central Limit Theorem to apply here.\n",
    "\n",
    "#2) The null hypothesis is that the callback rates for white-sounding names is not higher than that for black-sounding names (in other words, such differences can be explained by random chance). The alternate hypothesis is that there is a meaningful difference in callback rates due to the nature of a person's name (white-sounding vs. black-sounding)."
   ]
  },
  {
   "cell_type": "code",
   "execution_count": 45,
   "metadata": {
    "collapsed": false
   },
   "outputs": [
    {
     "name": "stdout",
     "output_type": "stream",
     "text": [
      "Margin of error: 0.00764081575102\n",
      "Confidence interval: [ 0.024392039104  0.0396736706061 ]\n",
      "z-score of difference in callback rates: -4.116\n",
      "p-value of difference in callback rates: 4e-05\n"
     ]
    }
   ],
   "source": [
    "# Answer for problem 3\n",
    "diff_of_means = np.mean(group_w.call) - np.mean(group_b.call)\n",
    "std_error = np.sqrt((p_both_called)*(1-p_both_called)/(count_b+count_w))\n",
    "\n",
    "z_critical = stats.norm.ppf(q = 0.975) # for 95% confidence interval, use q=0.975\n",
    "moe = std_error * z_critical\n",
    "\n",
    "ci_lower = diff_of_means - moe\n",
    "ci_upper = diff_of_means + moe\n",
    "\n",
    "print('Margin of error:', moe)\n",
    "print('Confidence interval: [', ci_lower ,'', ci_upper, ']')\n",
    "\n",
    "std_b = np.std(group_b.call)\n",
    "std_w = np.std(group_w.call)\n",
    "\n",
    "zscore_diff, pvalue_diff = twoSampZ(p_b_called, p_w_called, 0, std_b,std_w,count_b,count_w)\n",
    "\n",
    "print('z-score of difference in callback rates:', zscore_diff)\n",
    "print('p-value of difference in callback rates:', pvalue_diff)"
   ]
  },
  {
   "cell_type": "markdown",
   "metadata": {},
   "source": [
    "#4) Given the confidence interval that was generated for the difference of means between the white-sounding names and black-sounding names as well as the very small p-value, we can easily reject the null hypothesis that the callback rate for white-sounding names is no higher than that for black-sounding names. In fact, the p-value of 0.00004 is substantially less than the threshold that was set here for 0.05."
   ]
  },
  {
   "cell_type": "markdown",
   "metadata": {},
   "source": [
    "#5) This analysis does not necessarily indicate race/name is the most important factor in callback success. There could be confounding factors, such as level of educational attainment. Having said that, a quick look at the descriptive statistics of the various fields available in this dataset does not show any particular significant differences other than the call back rate between white and black-sounding names."
   ]
  },
  {
   "cell_type": "code",
   "execution_count": null,
   "metadata": {
    "collapsed": true
   },
   "outputs": [],
   "source": []
  }
 ],
 "metadata": {
  "kernelspec": {
   "display_name": "Python 3",
   "language": "python",
   "name": "python3"
  },
  "language_info": {
   "codemirror_mode": {
    "name": "ipython",
    "version": 3
   },
   "file_extension": ".py",
   "mimetype": "text/x-python",
   "name": "python",
   "nbconvert_exporter": "python",
   "pygments_lexer": "ipython3",
   "version": "3.6.0"
  }
 },
 "nbformat": 4,
 "nbformat_minor": 0
}
