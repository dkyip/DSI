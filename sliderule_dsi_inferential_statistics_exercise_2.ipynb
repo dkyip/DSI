{
 "cells": [
  {
   "cell_type": "markdown",
   "metadata": {},
   "source": [
    "# Examining Racial Discrimination in the US Job Market\n",
    "\n",
    "### Background\n",
    "Racial discrimination continues to be pervasive in cultures throughout the world. Researchers examined the level of racial discrimination in the United States labor market by randomly assigning identical résumés to black-sounding or white-sounding names and observing the impact on requests for interviews from employers.\n",
    "\n",
    "### Data\n",
    "In the dataset provided, each row represents a resume. The 'race' column has two values, 'b' and 'w', indicating black-sounding and white-sounding. The column 'call' has two values, 1 and 0, indicating whether the resume received a call from employers or not.\n",
    "\n",
    "Note that the 'b' and 'w' values in race are assigned randomly to the resumes when presented to the employer."
   ]
  },
  {
   "cell_type": "markdown",
   "metadata": {},
   "source": [
    "<div class=\"span5 alert alert-info\">\n",
    "### Exercises\n",
    "You will perform a statistical analysis to establish whether race has a significant impact on the rate of callbacks for resumes.\n",
    "\n",
    "Answer the following questions **in this notebook below and submit to your Github account**. \n",
    "\n",
    "   1. What test is appropriate for this problem? Does CLT apply?\n",
    "   2. What are the null and alternate hypotheses?\n",
    "   3. Compute margin of error, confidence interval, and p-value.\n",
    "   4. Write a story describing the statistical significance in the context or the original problem.\n",
    "   5. Does your analysis mean that race/name is the most important factor in callback success? Why or why not? If not, how would you amend your analysis?\n",
    "\n",
    "You can include written notes in notebook cells using Markdown: \n",
    "   - In the control panel at the top, choose Cell > Cell Type > Markdown\n",
    "   - Markdown syntax: http://nestacms.com/docs/creating-content/markdown-cheat-sheet\n",
    "\n",
    "\n",
    "#### Resources\n",
    "+ Experiment information and data source: http://www.povertyactionlab.org/evaluation/discrimination-job-market-united-states\n",
    "+ Scipy statistical methods: http://docs.scipy.org/doc/scipy/reference/stats.html \n",
    "+ Markdown syntax: http://nestacms.com/docs/creating-content/markdown-cheat-sheet\n",
    "</div>\n",
    "****"
   ]
  },
  {
   "cell_type": "code",
   "execution_count": 29,
   "metadata": {
    "collapsed": true
   },
   "outputs": [],
   "source": [
    "import pandas as pd\n",
    "import numpy as np\n",
    "from scipy import stats\n",
    "\n",
    "import matplotlib.pyplot as plt"
   ]
  },
  {
   "cell_type": "code",
   "execution_count": 3,
   "metadata": {
    "collapsed": false
   },
   "outputs": [],
   "source": [
    "data = pd.io.stata.read_stata('data/us_job_market_discrimination.dta')"
   ]
  },
  {
   "cell_type": "code",
   "execution_count": 83,
   "metadata": {
    "collapsed": false
   },
   "outputs": [
    {
     "name": "stdout",
     "output_type": "stream",
     "text": [
      "p(b is called): 0.0644763857126236 (called = 157.0 , count = 2435 )\n",
      "p(w is called): 0.09650924056768417 (called = 235.0 , count = 2435 )\n",
      "Absolute Difference in p:  0.03203285485506058\n",
      "Relative % Difference in p:  49.681529913654856 %\n"
     ]
    }
   ],
   "source": [
    "group_b = data[data.race=='b']\n",
    "group_w = data[data.race=='w']\n",
    "\n",
    "p_b_called = np.mean(group_b.call)\n",
    "p_w_called = np.mean(group_w.call)\n",
    "\n",
    "count_b_called = sum(group_b.call)\n",
    "count_w_called = sum(group_w.call)\n",
    "\n",
    "count_b = len(group_b)\n",
    "count_w = len(group_w)\n",
    "\n",
    "print('p(''b'' is called):', p_b_called, '(called =', count_b_called, ', count =', count_b, ')')\n",
    "print('p(''w'' is called):', p_w_called, '(called =', count_w_called, ', count =', count_w, ')')\n",
    "\n",
    "p_diff_abs = p_w_called - p_b_called\n",
    "p_diff_rel = ( p_diff_abs / p_b_called ) * 100\n",
    "print('Absolute Difference in p: ', p_diff_abs)\n",
    "print('Relative % Difference in p: ', p_diff_rel, '%')"
   ]
  },
  {
   "cell_type": "markdown",
   "metadata": {},
   "source": [
    "#1) A two-sample test will be applicable here, as we will have two samples, one for white-sounding names and the other of black-sounding names. In particular, we will utilize a one-tail test to see if there is racial discrimination.\n",
    "\n",
    "The dataset is sufficiently large enough for the Central Limit Theorem to apply here.\n",
    "\n",
    "#2) The null hypothesis is that the callback rates for white-sounding names is not higher than that for black-sounding names (in other words, such differences can be explained by random chance). The alternate hypothesis is that there is a meaningful difference in callback rates due to the nature of a person's name (white-sounding vs. black-sounding)."
   ]
  },
  {
   "cell_type": "code",
   "execution_count": 315,
   "metadata": {
    "collapsed": false
   },
   "outputs": [
    {
     "name": "stdout",
     "output_type": "stream",
     "text": [
      "Margin of error: 0.0123547822087\n",
      "Confidence interval: [ 0.0196780726464  0.0443876370637 ]\n"
     ]
    },
    {
     "data": {
      "image/png": "[encoded data removed]",
      "text/plain": [
       "<matplotlib.figure.Figure at 0x11afc01d0>"
      ]
     },
     "metadata": {},
     "output_type": "display_data"
    },
    {
     "name": "stdout",
     "output_type": "stream",
     "text": [
      "p-value of differences of means >= absolute difference in dataset: 0.0\n"
     ]
    }
   ],
   "source": [
    "# Answer for problem 3\n",
    "diff_of_means = np.mean(group_w.call) - np.mean(group_b.call)\n",
    "group_w_minus_b = group_w.reset_index(drop=True).call - group_b.reset_index(drop=True).call\n",
    "\n",
    "std_error = stats.sem(group_w_minus_b)\n",
    "z_critical = stats.norm.ppf(q = 0.975) # for 95% confidence interval, use q=0.975\n",
    "\n",
    "moe = std_error * z_critical\n",
    "ci_lower = diff_of_means - moe\n",
    "ci_upper = diff_of_means + moe\n",
    "\n",
    "print('Margin of error:', moe)\n",
    "print('Confidence interval: [', ci_lower ,'', ci_upper, ']')\n",
    "\n",
    "def TestStatistic(data):\n",
    "    group_b, group_w = data\n",
    "    test_stat = abs(group_w.mean() - group_b.mean())\n",
    "    return test_stat\n",
    "\n",
    "def RunModel():\n",
    "    np.random.shuffle(pool)\n",
    "    data = pool[:n], pool[n:]\n",
    "    return data\n",
    "\n",
    "n, m = len(group_b.call), len(group_w.call)\n",
    "pool = np.hstack((group_b.call,group_w.call))\n",
    "\n",
    "test_stat_data = np.array([TestStatistic(RunModel()) for i in range(1000)])\n",
    "p_value = sum(test_stat_data >= p_diff_abs) / len(test_stat_data)\n",
    "plt.hist(test_stat_data)\n",
    "plt.show()\n",
    "print('p-value of differences of means >= absolute difference in dataset:', p_value)"
   ]
  },
  {
   "cell_type": "markdown",
   "metadata": {},
   "source": [
    "#4)\n",
    "\n",
    "#5)"
   ]
  }
 ],
 "metadata": {
  "kernelspec": {
   "display_name": "Python 3",
   "language": "python",
   "name": "python3"
  }
 },
 "nbformat": 4,
 "nbformat_minor": 0
}
