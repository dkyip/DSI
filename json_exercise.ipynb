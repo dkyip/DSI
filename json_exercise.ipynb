{
 "cells": [
  {
   "cell_type": "code",
   "execution_count": 4,
   "metadata": {
    "collapsed": false
   },
   "outputs": [
    {
     "name": "stdout",
     "output_type": "stream",
     "text": [
      "Top 10 Countries with Most Projects\n",
      "===================================\n",
      "Indonesia             19\n",
      "China                 19\n",
      "Vietnam               17\n",
      "India                 16\n",
      "Yemen, Republic of    13\n",
      "Nepal                 12\n",
      "Morocco               12\n",
      "Bangladesh            12\n",
      "Mozambique            11\n",
      "Africa                11\n",
      "Name: countryshortname, dtype: int64\n",
      "\n",
      "Top 10 Major Project Themes\n",
      "===========================\n",
      "                                              count\n",
      "name                                               \n",
      "Environment and natural resources management    223\n",
      "Rural development                               202\n",
      "Human development                               197\n",
      "Public sector governance                        184\n",
      "Social protection and risk management           158\n",
      "Financial and private sector development        130\n",
      "                                                122\n",
      "Social dev/gender/inclusion                     119\n",
      "Trade and integration                            72\n",
      "Urban development                                47\n",
      "\n",
      "Top 10 Major Project Themes (CORRECTED)\n",
      "=======================================\n",
      "                                              name  count\n",
      "code                                                     \n",
      "11    Environment and natural resources management    250\n",
      "10                               Rural development    216\n",
      "8                                Human development    210\n",
      "2                         Public sector governance    199\n",
      "6            Social protection and risk management    168\n",
      "4         Financial and private sector development    146\n",
      "7                      Social dev/gender/inclusion    130\n",
      "5                            Trade and integration     77\n",
      "9                                Urban development     50\n",
      "1                              Economic management     38\n"
     ]
    }
   ],
   "source": [
    "import pandas as pd\n",
    "import json\n",
    "from pandas.io.json import json_normalize\n",
    "\n",
    "# Exercise 1\n",
    "#load json into Pandas DataFrame\n",
    "df_json_exercise1 = pd.read_json('data/world_bank_projects.json')\n",
    "\n",
    "# Print the 10 countries with the most projects\n",
    "df_json_exercise1 = df_json_exercise1['countryshortname'].value_counts().nlargest(10)\n",
    "df_json_exercise1.columns = ['count']\n",
    "print(\"Top 10 Countries with Most Projects\")\n",
    "print(\"===================================\")\n",
    "print(df_json_exercise1)\n",
    "print(\"\")\n",
    "\n",
    "# Exercise 2\n",
    "# Load json using json.load (to use json_normalize).\n",
    "list_json_exercise = json.load((open('data/world_bank_projects.json')))\n",
    "df_json_normalized = json_normalize(list_json_exercise,'mjtheme_namecode','id')\n",
    "\n",
    "#Group counts of major project themes by name only.\n",
    "df_count = df_json_normalized.groupby('name').count()\n",
    "del df_count['code']\n",
    "df_count.columns = ['count']\n",
    "print(\"Top 10 Major Project Themes\")\n",
    "print(\"===========================\")\n",
    "print(df_count.nlargest(10,'count'))\n",
    "print(\"\")\n",
    "\n",
    "# Exercise #3\n",
    "# For proper results, group counts by 'code' column only, then\n",
    "# create a DF that maps the 'code' by the 'name' (by removing\n",
    "# all rows that are missing a 'name').\n",
    "# The second DF's counts do not matter here.\n",
    "df_exercise3_left = df_json_normalized.groupby('code').count()\n",
    "df_exercise3_select_cond = df_json_normalized['name'].str.strip() != \"\"\n",
    "\n",
    "# Since all valid 'name' values are the same per 'code', max function should suffice here.\n",
    "df_labels = df_json_normalized[df_exercise3_select_cond].groupby('code')[['name']].max()\n",
    "\n",
    "# Merge on indexes (both are 'code').\n",
    "df_exercise3 = pd.merge(df_exercise3_left,df_labels,left_index=True,right_index=True)\n",
    "del df_exercise3['name_x']\n",
    "df_exercise3 = df_exercise3.nlargest(10,'id')\n",
    "df_exercise3.columns = ['count', 'name']\n",
    "\n",
    "print(\"Top 10 Major Project Themes (CORRECTED)\")\n",
    "print(\"=======================================\")\n",
    "print(df_exercise3[['name','count']])\n"
   ]
  },
  {
   "cell_type": "code",
   "execution_count": null,
   "metadata": {
    "collapsed": false
   },
   "outputs": [],
   "source": []
  },
  {
   "cell_type": "code",
   "execution_count": null,
   "metadata": {
    "collapsed": true
   },
   "outputs": [],
   "source": []
  }
 ],
 "metadata": {
  "kernelspec": {
   "display_name": "Python 3",
   "language": "python",
   "name": "python3"
  },
  "language_info": {
   "codemirror_mode": {
    "name": "ipython",
    "version": 3
   },
   "file_extension": ".py",
   "mimetype": "text/x-python",
   "name": "python",
   "nbconvert_exporter": "python",
   "pygments_lexer": "ipython3",
   "version": "3.6.0"
  }
 },
 "nbformat": 4,
 "nbformat_minor": 2
}
