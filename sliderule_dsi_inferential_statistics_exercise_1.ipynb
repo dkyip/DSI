{
 "cells": [
  {
   "cell_type": "markdown",
   "metadata": {},
   "source": [
    "# What is the True Normal Human Body Temperature? \n",
    "\n",
    "#### Background\n",
    "\n",
    "The mean normal body temperature was held to be 37$^{\\circ}$C or 98.6$^{\\circ}$F for more than 120 years since it was first conceptualized and reported by Carl Wunderlich in a famous 1868 book. But, is this value statistically correct?"
   ]
  },
  {
   "cell_type": "markdown",
   "metadata": {},
   "source": [
    "<div class=\"span5 alert alert-info\">\n",
    "<h3>Exercises</h3>\n",
    "\n",
    "<p>In this exercise, you will analyze a dataset of human body temperatures and employ the concepts of hypothesis testing, confidence intervals, and statistical significance.</p>\n",
    "\n",
    "<p>Answer the following questions <b>in this notebook below and submit to your Github account</b>.</p> \n",
    "\n",
    "<ol>\n",
    "<li>  Is the distribution of body temperatures normal? \n",
    "    <ul>\n",
    "    <li> Although this is not a requirement for CLT to hold (read CLT carefully), it gives us some peace of mind that the population may also be normally distributed if we assume that this sample is representative of the population.\n",
    "    </ul>\n",
    "<li>  Is the sample size large? Are the observations independent?\n",
    "    <ul>\n",
    "    <li> Remember that this is a condition for the CLT, and hence the statistical tests we are using, to apply.\n",
    "    </ul>\n",
    "<li>  Is the true population mean really 98.6 degrees F?\n",
    "    <ul>\n",
    "    <li> Would you use a one-sample or two-sample test? Why?\n",
    "    <li> In this situation, is it appropriate to use the $t$ or $z$ statistic? \n",
    "    <li> Now try using the other test. How is the result be different? Why?\n",
    "    </ul>\n",
    "<li>  At what temperature should we consider someone's temperature to be \"abnormal\"?\n",
    "    <ul>\n",
    "    <li> Start by computing the margin of error and confidence interval.\n",
    "    </ul>\n",
    "<li>  Is there a significant difference between males and females in normal temperature?\n",
    "    <ul>\n",
    "    <li> What test did you use and why?\n",
    "    <li> Write a story with your conclusion in the context of the original problem.\n",
    "    </ul>\n",
    "</ol>\n",
    "\n",
    "You can include written notes in notebook cells using Markdown: \n",
    "   - In the control panel at the top, choose Cell > Cell Type > Markdown\n",
    "   - Markdown syntax: http://nestacms.com/docs/creating-content/markdown-cheat-sheet\n",
    "\n",
    "#### Resources\n",
    "\n",
    "+ Information and data sources: http://www.amstat.org/publications/jse/datasets/normtemp.txt, http://www.amstat.org/publications/jse/jse_data_archive.htm\n",
    "+ Markdown syntax: http://nestacms.com/docs/creating-content/markdown-cheat-sheet\n",
    "\n",
    "****\n",
    "</div>"
   ]
  },
  {
   "cell_type": "code",
   "execution_count": 2,
   "metadata": {
    "collapsed": true
   },
   "outputs": [],
   "source": [
    "import numpy as np\n",
    "import pandas as pd\n",
    "import matplotlib.pyplot as plt\n",
    "import scipy.stats as stat\n",
    "\n",
    "df = pd.read_csv('data/human_body_temperature.csv')"
   ]
  },
  {
   "cell_type": "code",
   "execution_count": 3,
   "metadata": {
    "collapsed": false
   },
   "outputs": [
    {
     "data": {
      "image/png": "[encoded data removed]",
      "text/plain": [
       "<matplotlib.figure.Figure at 0x1147f0668>"
      ]
     },
     "metadata": {},
     "output_type": "display_data"
    }
   ],
   "source": [
    "# Exercise 1\n",
    "x1 = np.sort(df['temperature'])\n",
    "y1 = np.arange(1, len(x1)+1)/len(x1)\n",
    "\n",
    "mean_s = np.mean(x1)\n",
    "std_s = np.std(x1,ddof=1)\n",
    "\n",
    "# generate a random normal distribution based on the \n",
    "# sample mean and sample standard deviation\n",
    "samples = np.random.normal(mean_s, std_s, size=1000)\n",
    "x2 = np.sort(samples)\n",
    "y2 = np.arange(1, len(samples)+1)/len(samples)\n",
    "\n",
    "# plot the sample data as well as the random\n",
    "# sample to compare CDF\n",
    "plt.plot(x1,y1,marker='.',linestyle='none')\n",
    "plt.plot(x2,y2,marker='.',linestyle='none')\n",
    "\n",
    "plt.show()"
   ]
  },
  {
   "cell_type": "markdown",
   "metadata": {},
   "source": [
    "#1) The distribution of body temperatures is considered a normal distribution, based on the comparison of the Cumulative Distribution Function (CDF) between the provided dataset and the random sample of the normal distribution (with a similar mean and standard deviation to the dataset)."
   ]
  },
  {
   "cell_type": "markdown",
   "metadata": {},
   "source": [
    "#2) The sample size is sufficiently large. For CLT to apply, a sample size of 30 is sufficient."
   ]
  },
  {
   "cell_type": "code",
   "execution_count": 38,
   "metadata": {
    "collapsed": false
   },
   "outputs": [
    {
     "name": "stdout",
     "output_type": "stream",
     "text": [
      "Sample mean temperature: 98.2492307692\n",
      "t-score for population mean temperature: -5.45482329236\n",
      "p-value for population mean temperature: 2.41063204156e-07\n"
     ]
    }
   ],
   "source": [
    "# Exercise 3\n",
    "print(\"Sample mean temperature:\", mean_s)\n",
    "\n",
    "# One-sample t-test (two-tail)\n",
    "mean_tscore, mean_pvalue = stat.ttest_1samp(x1,98.6)\n",
    "print(\"t-score for population mean temperature:\", mean_tscore)\n",
    "print(\"p-value for population mean temperature:\", mean_pvalue)"
   ]
  },
  {
   "cell_type": "markdown",
   "metadata": {},
   "source": [
    "#3) In order to determine if the true population mean of body temperature is 98.6 degrees, we will initially assume that the true mean is equal to 98.6 degrees (the null hypothesis).\n",
    "\n",
    "The one-sample t-test applies here, as we are testing against the true mean value only. Since we do not have a population standard deviation, the t-test will be used.\n",
    "\n",
    "From the above result, we can reject this null hypothesis, since the stated p-value is significantly smaller than 2.5%.\n",
    "\n",
    "If we were to attempt to use the z-test, we would need to estimate that the population standard deviation is roughly equal to the sample standard deviation. With n=130, the t-score for a 95% confidence interval is not too far off than the z-score (at n=100, the t-score is 1.984, whereas the z-score is 1.960). This makes it even less likely that the null hypothesis holds true."
   ]
  },
  {
   "cell_type": "code",
   "execution_count": 45,
   "metadata": {
    "collapsed": false
   },
   "outputs": [
    {
     "name": "stdout",
     "output_type": "stream",
     "text": [
      "Confidence interval: ( 98.1216508062 , 98.3768107322 )\n",
      "When temperatures are below 98.1216508062 degrees F or greater than 98.3768107322 degrees F, we should consider it abnormal.\n"
     ]
    }
   ],
   "source": [
    "# Exercise 4\n",
    "# Assume 95% confidence interval\n",
    "# Use n=100 value: t-score = 1.984\n",
    "se_s = stat.sem(x1)\n",
    "moe_s = se_s * 1.984\n",
    "\n",
    "ci_lower = mean_s - moe_s\n",
    "ci_upper = mean_s + moe_s\n",
    "print('Confidence interval: (', ci_lower, ',', ci_upper, ')')\n",
    "print('When temperatures are below', ci_lower, 'degrees F or greater than', ci_upper, 'degrees F, we should consider it abnormal.')"
   ]
  },
  {
   "cell_type": "code",
   "execution_count": 54,
   "metadata": {
    "collapsed": false
   },
   "outputs": [
    {
     "name": "stdout",
     "output_type": "stream",
     "text": [
      "Male mean temperature: 98.1046153846154\n",
      "Female mean temperature: 98.39384615384613\n",
      "t-score for gender temperature difference: -2.28543453817\n",
      "p-value for gender temperature difference: 0.0239382641829\n"
     ]
    }
   ],
   "source": [
    "# Exercise 5\n",
    "df_male = df[df['gender'] == 'M']['temperature']\n",
    "df_female = df[df['gender'] == 'F']['temperature']\n",
    "\n",
    "mean_m = np.mean(df_male)\n",
    "mean_f = np.mean(df_female)\n",
    "print(\"Male mean temperature:\", mean_m)\n",
    "print(\"Female mean temperature:\", mean_f)\n",
    "\n",
    "gender_tscore, gender_pvalue = stat.ttest_ind(df_male,df_female,equal_var=False)\n",
    "print(\"t-score for gender temperature difference:\", gender_tscore)\n",
    "print(\"p-value for gender temperature difference:\", gender_pvalue)"
   ]
  },
  {
   "cell_type": "markdown",
   "metadata": {
    "collapsed": true
   },
   "source": [
    "#5) A two-sample t-test was used here, where the data between the two is independent of one another (ie. not paired), with the null hypothesis being that the mean temparature between males and females are equal.\n",
    "\n",
    "The p-value indicates that with 95% confidence, we can reject this stated null hypothesis and therefore there is a difference in temperatures between males and females."
   ]
  },
  {
   "cell_type": "code",
   "execution_count": null,
   "metadata": {
    "collapsed": true
   },
   "outputs": [],
   "source": []
  }
 ],
 "metadata": {
  "kernelspec": {
   "display_name": "Python 3",
   "language": "python",
   "name": "python3"
  },
  "language_info": {
   "codemirror_mode": {
    "name": "ipython",
    "version": 3
   },
   "file_extension": ".py",
   "mimetype": "text/x-python",
   "name": "python",
   "nbconvert_exporter": "python",
   "pygments_lexer": "ipython3",
   "version": "3.6.0"
  }
 },
 "nbformat": 4,
 "nbformat_minor": 0
}
